{
 "cells": [
  {
   "cell_type": "code",
   "execution_count": 2,
   "metadata": {},
   "outputs": [],
   "source": [
    "# from sklearn.cross_validation import train_test_split"
   ]
  },
  {
   "cell_type": "code",
   "execution_count": 107,
   "metadata": {},
   "outputs": [],
   "source": [
    "# Import libraries\n",
    "import warnings\n",
    "\n",
    "import pandas as pd\n",
    "import numpy as np\n",
    "import seaborn as sns\n",
    "import matplotlib.pyplot as plt\n",
    "\n",
    "\n",
    "from sklearn import tree\n",
    "from sklearn import metrics\n",
    "from sklearn.metrics import roc_curve\n",
    "from sklearn.metrics import roc_auc_score\n",
    "from sklearn.metrics import accuracy_score\n",
    "from sklearn.metrics import confusion_matrix\n",
    "from sklearn.preprocessing import LabelEncoder\n",
    "from sklearn.preprocessing import StandardScaler\n",
    "from sklearn.metrics import classification_report\n",
    "from sklearn.model_selection import cross_val_score\n",
    "from sklearn.model_selection import train_test_split"
   ]
  },
  {
   "cell_type": "code",
   "execution_count": 108,
   "metadata": {},
   "outputs": [],
   "source": [
    "# Ignore warnings\n",
    "warnings.filterwarnings('ignore')"
   ]
  },
  {
   "cell_type": "code",
   "execution_count": 109,
   "metadata": {},
   "outputs": [],
   "source": [
    "# Set seed for reproducibility\n",
    "SEED = 0"
   ]
  },
  {
   "cell_type": "code",
   "execution_count": 110,
   "metadata": {},
   "outputs": [
    {
     "data": {
      "text/html": [
       "<div>\n",
       "<style scoped>\n",
       "    .dataframe tbody tr th:only-of-type {\n",
       "        vertical-align: middle;\n",
       "    }\n",
       "\n",
       "    .dataframe tbody tr th {\n",
       "        vertical-align: top;\n",
       "    }\n",
       "\n",
       "    .dataframe thead th {\n",
       "        text-align: right;\n",
       "    }\n",
       "</style>\n",
       "<table border=\"1\" class=\"dataframe\">\n",
       "  <thead>\n",
       "    <tr style=\"text-align: right;\">\n",
       "      <th></th>\n",
       "      <th>Unnamed: 0</th>\n",
       "      <th>donorID</th>\n",
       "      <th>zipcode</th>\n",
       "      <th>gender</th>\n",
       "      <th>language</th>\n",
       "      <th>year</th>\n",
       "      <th>age</th>\n",
       "      <th>amount</th>\n",
       "      <th>recency</th>\n",
       "      <th>freq</th>\n",
       "      <th>amount_class</th>\n",
       "      <th>avg_amount</th>\n",
       "      <th>generation</th>\n",
       "      <th>avg_amount_class</th>\n",
       "    </tr>\n",
       "  </thead>\n",
       "  <tbody>\n",
       "    <tr>\n",
       "      <th>0</th>\n",
       "      <td>0</td>\n",
       "      <td>100001</td>\n",
       "      <td>1861.0</td>\n",
       "      <td>F</td>\n",
       "      <td>NL</td>\n",
       "      <td>1967.0</td>\n",
       "      <td>52.0</td>\n",
       "      <td>178.49</td>\n",
       "      <td>50273.0</td>\n",
       "      <td>12.0</td>\n",
       "      <td>1</td>\n",
       "      <td>14.874167</td>\n",
       "      <td>genX</td>\n",
       "      <td>1</td>\n",
       "    </tr>\n",
       "    <tr>\n",
       "      <th>1</th>\n",
       "      <td>1</td>\n",
       "      <td>100002</td>\n",
       "      <td>2260.0</td>\n",
       "      <td>M</td>\n",
       "      <td>NL</td>\n",
       "      <td>1952.0</td>\n",
       "      <td>68.0</td>\n",
       "      <td>20.00</td>\n",
       "      <td>2071.0</td>\n",
       "      <td>1.0</td>\n",
       "      <td>1</td>\n",
       "      <td>20.000000</td>\n",
       "      <td>Boomer</td>\n",
       "      <td>1</td>\n",
       "    </tr>\n",
       "    <tr>\n",
       "      <th>2</th>\n",
       "      <td>2</td>\n",
       "      <td>100004</td>\n",
       "      <td>1020.0</td>\n",
       "      <td>F</td>\n",
       "      <td>FR</td>\n",
       "      <td>1952.0</td>\n",
       "      <td>68.0</td>\n",
       "      <td>716.22</td>\n",
       "      <td>118787.0</td>\n",
       "      <td>26.0</td>\n",
       "      <td>1</td>\n",
       "      <td>27.546923</td>\n",
       "      <td>Boomer</td>\n",
       "      <td>1</td>\n",
       "    </tr>\n",
       "    <tr>\n",
       "      <th>3</th>\n",
       "      <td>3</td>\n",
       "      <td>100008</td>\n",
       "      <td>1780.0</td>\n",
       "      <td>M</td>\n",
       "      <td>FR</td>\n",
       "      <td>1937.0</td>\n",
       "      <td>83.0</td>\n",
       "      <td>124.37</td>\n",
       "      <td>12760.0</td>\n",
       "      <td>3.0</td>\n",
       "      <td>1</td>\n",
       "      <td>41.456667</td>\n",
       "      <td>Boomer</td>\n",
       "      <td>1</td>\n",
       "    </tr>\n",
       "    <tr>\n",
       "      <th>4</th>\n",
       "      <td>4</td>\n",
       "      <td>100009</td>\n",
       "      <td>1020.0</td>\n",
       "      <td>M</td>\n",
       "      <td>FR</td>\n",
       "      <td>1932.0</td>\n",
       "      <td>88.0</td>\n",
       "      <td>326.78</td>\n",
       "      <td>77210.0</td>\n",
       "      <td>19.0</td>\n",
       "      <td>1</td>\n",
       "      <td>17.198947</td>\n",
       "      <td>Boomer</td>\n",
       "      <td>1</td>\n",
       "    </tr>\n",
       "  </tbody>\n",
       "</table>\n",
       "</div>"
      ],
      "text/plain": [
       "   Unnamed: 0  donorID  zipcode gender language    year   age  amount  \\\n",
       "0           0   100001   1861.0      F       NL  1967.0  52.0  178.49   \n",
       "1           1   100002   2260.0      M       NL  1952.0  68.0   20.00   \n",
       "2           2   100004   1020.0      F       FR  1952.0  68.0  716.22   \n",
       "3           3   100008   1780.0      M       FR  1937.0  83.0  124.37   \n",
       "4           4   100009   1020.0      M       FR  1932.0  88.0  326.78   \n",
       "\n",
       "    recency  freq  amount_class  avg_amount generation  avg_amount_class  \n",
       "0   50273.0  12.0             1   14.874167       genX                 1  \n",
       "1    2071.0   1.0             1   20.000000     Boomer                 1  \n",
       "2  118787.0  26.0             1   27.546923     Boomer                 1  \n",
       "3   12760.0   3.0             1   41.456667     Boomer                 1  \n",
       "4   77210.0  19.0             1   17.198947     Boomer                 1  "
      ]
     },
     "execution_count": 110,
     "metadata": {},
     "output_type": "execute_result"
    }
   ],
   "source": [
    "df = pd.read_csv('donors_in_campaign_6169.csv')\n",
    "df.head()"
   ]
  },
  {
   "cell_type": "code",
   "execution_count": 111,
   "metadata": {},
   "outputs": [
    {
     "data": {
      "text/html": [
       "<div>\n",
       "<style scoped>\n",
       "    .dataframe tbody tr th:only-of-type {\n",
       "        vertical-align: middle;\n",
       "    }\n",
       "\n",
       "    .dataframe tbody tr th {\n",
       "        vertical-align: top;\n",
       "    }\n",
       "\n",
       "    .dataframe thead th {\n",
       "        text-align: right;\n",
       "    }\n",
       "</style>\n",
       "<table border=\"1\" class=\"dataframe\">\n",
       "  <thead>\n",
       "    <tr style=\"text-align: right;\">\n",
       "      <th></th>\n",
       "      <th>Unnamed: 0</th>\n",
       "      <th>donorID</th>\n",
       "      <th>zipcode</th>\n",
       "      <th>gender</th>\n",
       "      <th>language</th>\n",
       "      <th>year</th>\n",
       "      <th>age</th>\n",
       "      <th>amount</th>\n",
       "      <th>recency</th>\n",
       "      <th>freq</th>\n",
       "      <th>amount_class</th>\n",
       "      <th>avg_amount</th>\n",
       "      <th>generation</th>\n",
       "      <th>avg_amount_class</th>\n",
       "    </tr>\n",
       "  </thead>\n",
       "  <tbody>\n",
       "    <tr>\n",
       "      <th>0</th>\n",
       "      <td>0</td>\n",
       "      <td>100001</td>\n",
       "      <td>1861.0</td>\n",
       "      <td>F</td>\n",
       "      <td>NL</td>\n",
       "      <td>1967.0</td>\n",
       "      <td>52.0</td>\n",
       "      <td>178.49</td>\n",
       "      <td>50273.0</td>\n",
       "      <td>12.0</td>\n",
       "      <td>1</td>\n",
       "      <td>14.874167</td>\n",
       "      <td>genX</td>\n",
       "      <td>1</td>\n",
       "    </tr>\n",
       "    <tr>\n",
       "      <th>1</th>\n",
       "      <td>1</td>\n",
       "      <td>100002</td>\n",
       "      <td>2260.0</td>\n",
       "      <td>M</td>\n",
       "      <td>NL</td>\n",
       "      <td>1952.0</td>\n",
       "      <td>68.0</td>\n",
       "      <td>20.00</td>\n",
       "      <td>2071.0</td>\n",
       "      <td>1.0</td>\n",
       "      <td>1</td>\n",
       "      <td>20.000000</td>\n",
       "      <td>Boomer</td>\n",
       "      <td>1</td>\n",
       "    </tr>\n",
       "    <tr>\n",
       "      <th>2</th>\n",
       "      <td>2</td>\n",
       "      <td>100008</td>\n",
       "      <td>1780.0</td>\n",
       "      <td>M</td>\n",
       "      <td>FR</td>\n",
       "      <td>1937.0</td>\n",
       "      <td>83.0</td>\n",
       "      <td>124.37</td>\n",
       "      <td>12760.0</td>\n",
       "      <td>3.0</td>\n",
       "      <td>1</td>\n",
       "      <td>41.456667</td>\n",
       "      <td>Boomer</td>\n",
       "      <td>1</td>\n",
       "    </tr>\n",
       "    <tr>\n",
       "      <th>3</th>\n",
       "      <td>3</td>\n",
       "      <td>100009</td>\n",
       "      <td>1020.0</td>\n",
       "      <td>M</td>\n",
       "      <td>FR</td>\n",
       "      <td>1932.0</td>\n",
       "      <td>88.0</td>\n",
       "      <td>326.78</td>\n",
       "      <td>77210.0</td>\n",
       "      <td>19.0</td>\n",
       "      <td>1</td>\n",
       "      <td>17.198947</td>\n",
       "      <td>Boomer</td>\n",
       "      <td>1</td>\n",
       "    </tr>\n",
       "    <tr>\n",
       "      <th>4</th>\n",
       "      <td>4</td>\n",
       "      <td>100010</td>\n",
       "      <td>1020.0</td>\n",
       "      <td>M</td>\n",
       "      <td>FR</td>\n",
       "      <td>1983.0</td>\n",
       "      <td>37.0</td>\n",
       "      <td>40.00</td>\n",
       "      <td>2068.0</td>\n",
       "      <td>1.0</td>\n",
       "      <td>1</td>\n",
       "      <td>40.000000</td>\n",
       "      <td>genY</td>\n",
       "      <td>1</td>\n",
       "    </tr>\n",
       "  </tbody>\n",
       "</table>\n",
       "</div>"
      ],
      "text/plain": [
       "   Unnamed: 0  donorID  zipcode gender language    year   age  amount  \\\n",
       "0           0   100001   1861.0      F       NL  1967.0  52.0  178.49   \n",
       "1           1   100002   2260.0      M       NL  1952.0  68.0   20.00   \n",
       "2           2   100008   1780.0      M       FR  1937.0  83.0  124.37   \n",
       "3           3   100009   1020.0      M       FR  1932.0  88.0  326.78   \n",
       "4           4   100010   1020.0      M       FR  1983.0  37.0   40.00   \n",
       "\n",
       "   recency  freq  amount_class  avg_amount generation  avg_amount_class  \n",
       "0  50273.0  12.0             1   14.874167       genX                 1  \n",
       "1   2071.0   1.0             1   20.000000     Boomer                 1  \n",
       "2  12760.0   3.0             1   41.456667     Boomer                 1  \n",
       "3  77210.0  19.0             1   17.198947     Boomer                 1  \n",
       "4   2068.0   1.0             1   40.000000       genY                 1  "
      ]
     },
     "execution_count": 111,
     "metadata": {},
     "output_type": "execute_result"
    }
   ],
   "source": [
    "df_7244 = pd.read_csv('donors_in_campaign_7244.csv')\n",
    "df_7244.head()"
   ]
  },
  {
   "cell_type": "code",
   "execution_count": 143,
   "metadata": {},
   "outputs": [
    {
     "data": {
      "text/html": [
       "<div>\n",
       "<style scoped>\n",
       "    .dataframe tbody tr th:only-of-type {\n",
       "        vertical-align: middle;\n",
       "    }\n",
       "\n",
       "    .dataframe tbody tr th {\n",
       "        vertical-align: top;\n",
       "    }\n",
       "\n",
       "    .dataframe thead th {\n",
       "        text-align: right;\n",
       "    }\n",
       "</style>\n",
       "<table border=\"1\" class=\"dataframe\">\n",
       "  <thead>\n",
       "    <tr style=\"text-align: right;\">\n",
       "      <th></th>\n",
       "      <th>Unnamed: 0</th>\n",
       "      <th>donorID</th>\n",
       "      <th>zipcode</th>\n",
       "      <th>gender</th>\n",
       "      <th>language</th>\n",
       "      <th>year</th>\n",
       "      <th>age</th>\n",
       "      <th>amount</th>\n",
       "      <th>recency</th>\n",
       "      <th>freq</th>\n",
       "      <th>amount_class</th>\n",
       "      <th>avg_amount</th>\n",
       "      <th>avg_amount_class</th>\n",
       "      <th>generation</th>\n",
       "    </tr>\n",
       "  </thead>\n",
       "  <tbody>\n",
       "    <tr>\n",
       "      <th>0</th>\n",
       "      <td>0</td>\n",
       "      <td>134242</td>\n",
       "      <td>3580.0</td>\n",
       "      <td>M</td>\n",
       "      <td>NL</td>\n",
       "      <td>1966.0</td>\n",
       "      <td>53.0</td>\n",
       "      <td>30.000</td>\n",
       "      <td>5588.0</td>\n",
       "      <td>2.0</td>\n",
       "      <td>1</td>\n",
       "      <td>15.000000</td>\n",
       "      <td>1</td>\n",
       "      <td>genX</td>\n",
       "    </tr>\n",
       "    <tr>\n",
       "      <th>1</th>\n",
       "      <td>1</td>\n",
       "      <td>126503</td>\n",
       "      <td>4250.0</td>\n",
       "      <td>M</td>\n",
       "      <td>FR</td>\n",
       "      <td>1949.0</td>\n",
       "      <td>70.0</td>\n",
       "      <td>50.000</td>\n",
       "      <td>2087.0</td>\n",
       "      <td>1.0</td>\n",
       "      <td>1</td>\n",
       "      <td>50.000000</td>\n",
       "      <td>1</td>\n",
       "      <td>Boomer</td>\n",
       "    </tr>\n",
       "    <tr>\n",
       "      <th>2</th>\n",
       "      <td>2</td>\n",
       "      <td>104392</td>\n",
       "      <td>4820.0</td>\n",
       "      <td>F</td>\n",
       "      <td>FR</td>\n",
       "      <td>1974.0</td>\n",
       "      <td>46.0</td>\n",
       "      <td>50.000</td>\n",
       "      <td>2086.0</td>\n",
       "      <td>1.0</td>\n",
       "      <td>1</td>\n",
       "      <td>50.000000</td>\n",
       "      <td>1</td>\n",
       "      <td>genX</td>\n",
       "    </tr>\n",
       "    <tr>\n",
       "      <th>3</th>\n",
       "      <td>3</td>\n",
       "      <td>105905</td>\n",
       "      <td>8370.0</td>\n",
       "      <td>M</td>\n",
       "      <td>NL</td>\n",
       "      <td>1970.0</td>\n",
       "      <td>49.0</td>\n",
       "      <td>210.000</td>\n",
       "      <td>2133.0</td>\n",
       "      <td>3.0</td>\n",
       "      <td>1</td>\n",
       "      <td>70.000000</td>\n",
       "      <td>1</td>\n",
       "      <td>genX</td>\n",
       "    </tr>\n",
       "    <tr>\n",
       "      <th>4</th>\n",
       "      <td>4</td>\n",
       "      <td>120506</td>\n",
       "      <td>8020.0</td>\n",
       "      <td>M</td>\n",
       "      <td>NL</td>\n",
       "      <td>1973.0</td>\n",
       "      <td>46.0</td>\n",
       "      <td>61.890</td>\n",
       "      <td>18694.0</td>\n",
       "      <td>5.0</td>\n",
       "      <td>1</td>\n",
       "      <td>12.378000</td>\n",
       "      <td>1</td>\n",
       "      <td>genX</td>\n",
       "    </tr>\n",
       "    <tr>\n",
       "      <th>5</th>\n",
       "      <td>5</td>\n",
       "      <td>128540</td>\n",
       "      <td>2800.0</td>\n",
       "      <td>F</td>\n",
       "      <td>NL</td>\n",
       "      <td>1990.0</td>\n",
       "      <td>30.0</td>\n",
       "      <td>175.000</td>\n",
       "      <td>13049.0</td>\n",
       "      <td>5.0</td>\n",
       "      <td>1</td>\n",
       "      <td>35.000000</td>\n",
       "      <td>1</td>\n",
       "      <td>genY</td>\n",
       "    </tr>\n",
       "    <tr>\n",
       "      <th>6</th>\n",
       "      <td>6</td>\n",
       "      <td>126159</td>\n",
       "      <td>1500.0</td>\n",
       "      <td>M</td>\n",
       "      <td>NL</td>\n",
       "      <td>1946.0</td>\n",
       "      <td>74.0</td>\n",
       "      <td>199.250</td>\n",
       "      <td>21125.0</td>\n",
       "      <td>6.0</td>\n",
       "      <td>1</td>\n",
       "      <td>33.208333</td>\n",
       "      <td>1</td>\n",
       "      <td>Boomer</td>\n",
       "    </tr>\n",
       "    <tr>\n",
       "      <th>7</th>\n",
       "      <td>7</td>\n",
       "      <td>141462</td>\n",
       "      <td>8310.0</td>\n",
       "      <td>F</td>\n",
       "      <td>NL</td>\n",
       "      <td>1955.0</td>\n",
       "      <td>65.0</td>\n",
       "      <td>20.000</td>\n",
       "      <td>4069.0</td>\n",
       "      <td>2.0</td>\n",
       "      <td>1</td>\n",
       "      <td>10.000000</td>\n",
       "      <td>0</td>\n",
       "      <td>Boomer</td>\n",
       "    </tr>\n",
       "    <tr>\n",
       "      <th>8</th>\n",
       "      <td>8</td>\n",
       "      <td>140682</td>\n",
       "      <td>8580.0</td>\n",
       "      <td>F</td>\n",
       "      <td>NL</td>\n",
       "      <td>1949.0</td>\n",
       "      <td>70.0</td>\n",
       "      <td>60.000</td>\n",
       "      <td>2815.0</td>\n",
       "      <td>2.0</td>\n",
       "      <td>1</td>\n",
       "      <td>30.000000</td>\n",
       "      <td>1</td>\n",
       "      <td>Boomer</td>\n",
       "    </tr>\n",
       "    <tr>\n",
       "      <th>9</th>\n",
       "      <td>9</td>\n",
       "      <td>133551</td>\n",
       "      <td>2110.0</td>\n",
       "      <td>F</td>\n",
       "      <td>NL</td>\n",
       "      <td>1949.0</td>\n",
       "      <td>70.0</td>\n",
       "      <td>10.000</td>\n",
       "      <td>3192.0</td>\n",
       "      <td>1.0</td>\n",
       "      <td>0</td>\n",
       "      <td>10.000000</td>\n",
       "      <td>0</td>\n",
       "      <td>Boomer</td>\n",
       "    </tr>\n",
       "    <tr>\n",
       "      <th>10</th>\n",
       "      <td>10</td>\n",
       "      <td>102019</td>\n",
       "      <td>3600.0</td>\n",
       "      <td>F</td>\n",
       "      <td>NL</td>\n",
       "      <td>1979.0</td>\n",
       "      <td>41.0</td>\n",
       "      <td>183.870</td>\n",
       "      <td>30278.0</td>\n",
       "      <td>7.0</td>\n",
       "      <td>1</td>\n",
       "      <td>26.267143</td>\n",
       "      <td>1</td>\n",
       "      <td>genX</td>\n",
       "    </tr>\n",
       "    <tr>\n",
       "      <th>11</th>\n",
       "      <td>11</td>\n",
       "      <td>105175</td>\n",
       "      <td>3500.0</td>\n",
       "      <td>F</td>\n",
       "      <td>NL</td>\n",
       "      <td>1978.0</td>\n",
       "      <td>42.0</td>\n",
       "      <td>123.950</td>\n",
       "      <td>24959.0</td>\n",
       "      <td>5.0</td>\n",
       "      <td>1</td>\n",
       "      <td>24.790000</td>\n",
       "      <td>1</td>\n",
       "      <td>genX</td>\n",
       "    </tr>\n",
       "    <tr>\n",
       "      <th>12</th>\n",
       "      <td>12</td>\n",
       "      <td>111013</td>\n",
       "      <td>8310.0</td>\n",
       "      <td>F</td>\n",
       "      <td>NL</td>\n",
       "      <td>1922.0</td>\n",
       "      <td>98.0</td>\n",
       "      <td>945.058</td>\n",
       "      <td>79354.0</td>\n",
       "      <td>22.0</td>\n",
       "      <td>1</td>\n",
       "      <td>42.957182</td>\n",
       "      <td>1</td>\n",
       "      <td>Boomer</td>\n",
       "    </tr>\n",
       "    <tr>\n",
       "      <th>13</th>\n",
       "      <td>13</td>\n",
       "      <td>144019</td>\n",
       "      <td>1020.0</td>\n",
       "      <td>F</td>\n",
       "      <td>NL</td>\n",
       "      <td>1941.0</td>\n",
       "      <td>78.0</td>\n",
       "      <td>10.000</td>\n",
       "      <td>1151.0</td>\n",
       "      <td>1.0</td>\n",
       "      <td>0</td>\n",
       "      <td>10.000000</td>\n",
       "      <td>0</td>\n",
       "      <td>Boomer</td>\n",
       "    </tr>\n",
       "    <tr>\n",
       "      <th>14</th>\n",
       "      <td>14</td>\n",
       "      <td>131199</td>\n",
       "      <td>5001.0</td>\n",
       "      <td>M</td>\n",
       "      <td>FR</td>\n",
       "      <td>1968.0</td>\n",
       "      <td>52.0</td>\n",
       "      <td>10.000</td>\n",
       "      <td>2307.0</td>\n",
       "      <td>2.0</td>\n",
       "      <td>0</td>\n",
       "      <td>5.000000</td>\n",
       "      <td>0</td>\n",
       "      <td>genX</td>\n",
       "    </tr>\n",
       "    <tr>\n",
       "      <th>15</th>\n",
       "      <td>15</td>\n",
       "      <td>142468</td>\n",
       "      <td>8510.0</td>\n",
       "      <td>F</td>\n",
       "      <td>NL</td>\n",
       "      <td>1992.0</td>\n",
       "      <td>27.0</td>\n",
       "      <td>5.000</td>\n",
       "      <td>1497.0</td>\n",
       "      <td>1.0</td>\n",
       "      <td>0</td>\n",
       "      <td>5.000000</td>\n",
       "      <td>0</td>\n",
       "      <td>genY</td>\n",
       "    </tr>\n",
       "    <tr>\n",
       "      <th>16</th>\n",
       "      <td>16</td>\n",
       "      <td>121937</td>\n",
       "      <td>3020.0</td>\n",
       "      <td>F</td>\n",
       "      <td>NL</td>\n",
       "      <td>1938.0</td>\n",
       "      <td>82.0</td>\n",
       "      <td>476.790</td>\n",
       "      <td>41813.0</td>\n",
       "      <td>12.0</td>\n",
       "      <td>1</td>\n",
       "      <td>39.732500</td>\n",
       "      <td>1</td>\n",
       "      <td>Boomer</td>\n",
       "    </tr>\n",
       "    <tr>\n",
       "      <th>17</th>\n",
       "      <td>17</td>\n",
       "      <td>107681</td>\n",
       "      <td>8400.0</td>\n",
       "      <td>M</td>\n",
       "      <td>NL</td>\n",
       "      <td>1977.0</td>\n",
       "      <td>43.0</td>\n",
       "      <td>148.740</td>\n",
       "      <td>30692.0</td>\n",
       "      <td>6.0</td>\n",
       "      <td>1</td>\n",
       "      <td>24.790000</td>\n",
       "      <td>1</td>\n",
       "      <td>genX</td>\n",
       "    </tr>\n",
       "    <tr>\n",
       "      <th>18</th>\n",
       "      <td>18</td>\n",
       "      <td>113805</td>\n",
       "      <td>2180.0</td>\n",
       "      <td>F</td>\n",
       "      <td>NL</td>\n",
       "      <td>1955.0</td>\n",
       "      <td>64.0</td>\n",
       "      <td>49.580</td>\n",
       "      <td>9282.0</td>\n",
       "      <td>2.0</td>\n",
       "      <td>1</td>\n",
       "      <td>24.790000</td>\n",
       "      <td>1</td>\n",
       "      <td>Boomer</td>\n",
       "    </tr>\n",
       "    <tr>\n",
       "      <th>19</th>\n",
       "      <td>19</td>\n",
       "      <td>112360</td>\n",
       "      <td>3920.0</td>\n",
       "      <td>F</td>\n",
       "      <td>NL</td>\n",
       "      <td>1963.0</td>\n",
       "      <td>56.0</td>\n",
       "      <td>148.740</td>\n",
       "      <td>25937.0</td>\n",
       "      <td>5.0</td>\n",
       "      <td>1</td>\n",
       "      <td>29.748000</td>\n",
       "      <td>1</td>\n",
       "      <td>Boomer</td>\n",
       "    </tr>\n",
       "  </tbody>\n",
       "</table>\n",
       "</div>"
      ],
      "text/plain": [
       "    Unnamed: 0  donorID  zipcode gender language    year   age   amount  \\\n",
       "0            0   134242   3580.0      M       NL  1966.0  53.0   30.000   \n",
       "1            1   126503   4250.0      M       FR  1949.0  70.0   50.000   \n",
       "2            2   104392   4820.0      F       FR  1974.0  46.0   50.000   \n",
       "3            3   105905   8370.0      M       NL  1970.0  49.0  210.000   \n",
       "4            4   120506   8020.0      M       NL  1973.0  46.0   61.890   \n",
       "5            5   128540   2800.0      F       NL  1990.0  30.0  175.000   \n",
       "6            6   126159   1500.0      M       NL  1946.0  74.0  199.250   \n",
       "7            7   141462   8310.0      F       NL  1955.0  65.0   20.000   \n",
       "8            8   140682   8580.0      F       NL  1949.0  70.0   60.000   \n",
       "9            9   133551   2110.0      F       NL  1949.0  70.0   10.000   \n",
       "10          10   102019   3600.0      F       NL  1979.0  41.0  183.870   \n",
       "11          11   105175   3500.0      F       NL  1978.0  42.0  123.950   \n",
       "12          12   111013   8310.0      F       NL  1922.0  98.0  945.058   \n",
       "13          13   144019   1020.0      F       NL  1941.0  78.0   10.000   \n",
       "14          14   131199   5001.0      M       FR  1968.0  52.0   10.000   \n",
       "15          15   142468   8510.0      F       NL  1992.0  27.0    5.000   \n",
       "16          16   121937   3020.0      F       NL  1938.0  82.0  476.790   \n",
       "17          17   107681   8400.0      M       NL  1977.0  43.0  148.740   \n",
       "18          18   113805   2180.0      F       NL  1955.0  64.0   49.580   \n",
       "19          19   112360   3920.0      F       NL  1963.0  56.0  148.740   \n",
       "\n",
       "    recency  freq  amount_class  avg_amount  avg_amount_class generation  \n",
       "0    5588.0   2.0             1   15.000000                 1       genX  \n",
       "1    2087.0   1.0             1   50.000000                 1     Boomer  \n",
       "2    2086.0   1.0             1   50.000000                 1       genX  \n",
       "3    2133.0   3.0             1   70.000000                 1       genX  \n",
       "4   18694.0   5.0             1   12.378000                 1       genX  \n",
       "5   13049.0   5.0             1   35.000000                 1       genY  \n",
       "6   21125.0   6.0             1   33.208333                 1     Boomer  \n",
       "7    4069.0   2.0             1   10.000000                 0     Boomer  \n",
       "8    2815.0   2.0             1   30.000000                 1     Boomer  \n",
       "9    3192.0   1.0             0   10.000000                 0     Boomer  \n",
       "10  30278.0   7.0             1   26.267143                 1       genX  \n",
       "11  24959.0   5.0             1   24.790000                 1       genX  \n",
       "12  79354.0  22.0             1   42.957182                 1     Boomer  \n",
       "13   1151.0   1.0             0   10.000000                 0     Boomer  \n",
       "14   2307.0   2.0             0    5.000000                 0       genX  \n",
       "15   1497.0   1.0             0    5.000000                 0       genY  \n",
       "16  41813.0  12.0             1   39.732500                 1     Boomer  \n",
       "17  30692.0   6.0             1   24.790000                 1       genX  \n",
       "18   9282.0   2.0             1   24.790000                 1     Boomer  \n",
       "19  25937.0   5.0             1   29.748000                 1     Boomer  "
      ]
     },
     "execution_count": 143,
     "metadata": {},
     "output_type": "execute_result"
    }
   ],
   "source": [
    "df_7662 = pd.read_csv('donors_in_campaign_7662.csv')\n",
    "df_7662.head(20)"
   ]
  },
  {
   "cell_type": "code",
   "execution_count": 51,
   "metadata": {},
   "outputs": [],
   "source": [
    "# df = pd.read_csv('df_donors_table1.csv')\n",
    "# df.head()"
   ]
  },
  {
   "cell_type": "code",
   "execution_count": 148,
   "metadata": {},
   "outputs": [
    {
     "data": {
      "text/plain": [
       "(34846, 5)"
      ]
     },
     "metadata": {},
     "output_type": "display_data"
    },
    {
     "data": {
      "text/plain": [
       "(25631, 12)"
      ]
     },
     "metadata": {},
     "output_type": "display_data"
    },
    {
     "data": {
      "text/plain": [
       "(26493, 5)"
      ]
     },
     "execution_count": 148,
     "metadata": {},
     "output_type": "execute_result"
    }
   ],
   "source": [
    "display(df.shape)\n",
    "display(df_7244.shape)\n",
    "df_7662.shape"
   ]
  },
  {
   "cell_type": "code",
   "execution_count": 114,
   "metadata": {},
   "outputs": [
    {
     "data": {
      "text/html": [
       "<div>\n",
       "<style scoped>\n",
       "    .dataframe tbody tr th:only-of-type {\n",
       "        vertical-align: middle;\n",
       "    }\n",
       "\n",
       "    .dataframe tbody tr th {\n",
       "        vertical-align: top;\n",
       "    }\n",
       "\n",
       "    .dataframe thead th {\n",
       "        text-align: right;\n",
       "    }\n",
       "</style>\n",
       "<table border=\"1\" class=\"dataframe\">\n",
       "  <thead>\n",
       "    <tr style=\"text-align: right;\">\n",
       "      <th></th>\n",
       "      <th>age</th>\n",
       "      <th>recency</th>\n",
       "      <th>freq</th>\n",
       "      <th>generation</th>\n",
       "      <th>avg_amount_class</th>\n",
       "    </tr>\n",
       "  </thead>\n",
       "  <tbody>\n",
       "    <tr>\n",
       "      <th>0</th>\n",
       "      <td>52.0</td>\n",
       "      <td>50273.0</td>\n",
       "      <td>12.0</td>\n",
       "      <td>genX</td>\n",
       "      <td>1</td>\n",
       "    </tr>\n",
       "    <tr>\n",
       "      <th>1</th>\n",
       "      <td>68.0</td>\n",
       "      <td>2071.0</td>\n",
       "      <td>1.0</td>\n",
       "      <td>Boomer</td>\n",
       "      <td>1</td>\n",
       "    </tr>\n",
       "    <tr>\n",
       "      <th>2</th>\n",
       "      <td>68.0</td>\n",
       "      <td>118787.0</td>\n",
       "      <td>26.0</td>\n",
       "      <td>Boomer</td>\n",
       "      <td>1</td>\n",
       "    </tr>\n",
       "    <tr>\n",
       "      <th>3</th>\n",
       "      <td>83.0</td>\n",
       "      <td>12760.0</td>\n",
       "      <td>3.0</td>\n",
       "      <td>Boomer</td>\n",
       "      <td>1</td>\n",
       "    </tr>\n",
       "    <tr>\n",
       "      <th>4</th>\n",
       "      <td>88.0</td>\n",
       "      <td>77210.0</td>\n",
       "      <td>19.0</td>\n",
       "      <td>Boomer</td>\n",
       "      <td>1</td>\n",
       "    </tr>\n",
       "  </tbody>\n",
       "</table>\n",
       "</div>"
      ],
      "text/plain": [
       "    age   recency  freq generation  avg_amount_class\n",
       "0  52.0   50273.0  12.0       genX                 1\n",
       "1  68.0    2071.0   1.0     Boomer                 1\n",
       "2  68.0  118787.0  26.0     Boomer                 1\n",
       "3  83.0   12760.0   3.0     Boomer                 1\n",
       "4  88.0   77210.0  19.0     Boomer                 1"
      ]
     },
     "execution_count": 114,
     "metadata": {},
     "output_type": "execute_result"
    }
   ],
   "source": [
    "df.drop(['Unnamed: 0', 'donorID', 'language', 'zipcode', 'gender', 'year', 'amount', 'amount_class', 'avg_amount'], axis=1, inplace=True)\n",
    "df.head()"
   ]
  },
  {
   "cell_type": "code",
   "execution_count": 115,
   "metadata": {},
   "outputs": [
    {
     "data": {
      "text/html": [
       "<div>\n",
       "<style scoped>\n",
       "    .dataframe tbody tr th:only-of-type {\n",
       "        vertical-align: middle;\n",
       "    }\n",
       "\n",
       "    .dataframe tbody tr th {\n",
       "        vertical-align: top;\n",
       "    }\n",
       "\n",
       "    .dataframe thead th {\n",
       "        text-align: right;\n",
       "    }\n",
       "</style>\n",
       "<table border=\"1\" class=\"dataframe\">\n",
       "  <thead>\n",
       "    <tr style=\"text-align: right;\">\n",
       "      <th></th>\n",
       "      <th>zipcode</th>\n",
       "      <th>gender</th>\n",
       "      <th>language</th>\n",
       "      <th>year</th>\n",
       "      <th>age</th>\n",
       "      <th>amount</th>\n",
       "      <th>recency</th>\n",
       "      <th>freq</th>\n",
       "      <th>amount_class</th>\n",
       "      <th>avg_amount</th>\n",
       "      <th>generation</th>\n",
       "      <th>avg_amount_class</th>\n",
       "    </tr>\n",
       "  </thead>\n",
       "  <tbody>\n",
       "    <tr>\n",
       "      <th>0</th>\n",
       "      <td>1861.0</td>\n",
       "      <td>F</td>\n",
       "      <td>NL</td>\n",
       "      <td>1967.0</td>\n",
       "      <td>52.0</td>\n",
       "      <td>178.49</td>\n",
       "      <td>50273.0</td>\n",
       "      <td>12.0</td>\n",
       "      <td>1</td>\n",
       "      <td>14.874167</td>\n",
       "      <td>genX</td>\n",
       "      <td>1</td>\n",
       "    </tr>\n",
       "    <tr>\n",
       "      <th>1</th>\n",
       "      <td>2260.0</td>\n",
       "      <td>M</td>\n",
       "      <td>NL</td>\n",
       "      <td>1952.0</td>\n",
       "      <td>68.0</td>\n",
       "      <td>20.00</td>\n",
       "      <td>2071.0</td>\n",
       "      <td>1.0</td>\n",
       "      <td>1</td>\n",
       "      <td>20.000000</td>\n",
       "      <td>Boomer</td>\n",
       "      <td>1</td>\n",
       "    </tr>\n",
       "    <tr>\n",
       "      <th>2</th>\n",
       "      <td>1780.0</td>\n",
       "      <td>M</td>\n",
       "      <td>FR</td>\n",
       "      <td>1937.0</td>\n",
       "      <td>83.0</td>\n",
       "      <td>124.37</td>\n",
       "      <td>12760.0</td>\n",
       "      <td>3.0</td>\n",
       "      <td>1</td>\n",
       "      <td>41.456667</td>\n",
       "      <td>Boomer</td>\n",
       "      <td>1</td>\n",
       "    </tr>\n",
       "    <tr>\n",
       "      <th>3</th>\n",
       "      <td>1020.0</td>\n",
       "      <td>M</td>\n",
       "      <td>FR</td>\n",
       "      <td>1932.0</td>\n",
       "      <td>88.0</td>\n",
       "      <td>326.78</td>\n",
       "      <td>77210.0</td>\n",
       "      <td>19.0</td>\n",
       "      <td>1</td>\n",
       "      <td>17.198947</td>\n",
       "      <td>Boomer</td>\n",
       "      <td>1</td>\n",
       "    </tr>\n",
       "    <tr>\n",
       "      <th>4</th>\n",
       "      <td>1020.0</td>\n",
       "      <td>M</td>\n",
       "      <td>FR</td>\n",
       "      <td>1983.0</td>\n",
       "      <td>37.0</td>\n",
       "      <td>40.00</td>\n",
       "      <td>2068.0</td>\n",
       "      <td>1.0</td>\n",
       "      <td>1</td>\n",
       "      <td>40.000000</td>\n",
       "      <td>genY</td>\n",
       "      <td>1</td>\n",
       "    </tr>\n",
       "  </tbody>\n",
       "</table>\n",
       "</div>"
      ],
      "text/plain": [
       "   zipcode gender language    year   age  amount  recency  freq  amount_class  \\\n",
       "0   1861.0      F       NL  1967.0  52.0  178.49  50273.0  12.0             1   \n",
       "1   2260.0      M       NL  1952.0  68.0   20.00   2071.0   1.0             1   \n",
       "2   1780.0      M       FR  1937.0  83.0  124.37  12760.0   3.0             1   \n",
       "3   1020.0      M       FR  1932.0  88.0  326.78  77210.0  19.0             1   \n",
       "4   1020.0      M       FR  1983.0  37.0   40.00   2068.0   1.0             1   \n",
       "\n",
       "   avg_amount generation  avg_amount_class  \n",
       "0   14.874167       genX                 1  \n",
       "1   20.000000     Boomer                 1  \n",
       "2   41.456667     Boomer                 1  \n",
       "3   17.198947     Boomer                 1  \n",
       "4   40.000000       genY                 1  "
      ]
     },
     "execution_count": 115,
     "metadata": {},
     "output_type": "execute_result"
    }
   ],
   "source": [
    "df_7244.drop(['Unnamed: 0', 'donorID'], axis=1, inplace=True)\n",
    "df_7244.head()"
   ]
  },
  {
   "cell_type": "code",
   "execution_count": 147,
   "metadata": {},
   "outputs": [
    {
     "data": {
      "text/html": [
       "<div>\n",
       "<style scoped>\n",
       "    .dataframe tbody tr th:only-of-type {\n",
       "        vertical-align: middle;\n",
       "    }\n",
       "\n",
       "    .dataframe tbody tr th {\n",
       "        vertical-align: top;\n",
       "    }\n",
       "\n",
       "    .dataframe thead th {\n",
       "        text-align: right;\n",
       "    }\n",
       "</style>\n",
       "<table border=\"1\" class=\"dataframe\">\n",
       "  <thead>\n",
       "    <tr style=\"text-align: right;\">\n",
       "      <th></th>\n",
       "      <th>age</th>\n",
       "      <th>recency</th>\n",
       "      <th>freq</th>\n",
       "      <th>avg_amount_class</th>\n",
       "      <th>generation</th>\n",
       "    </tr>\n",
       "  </thead>\n",
       "  <tbody>\n",
       "    <tr>\n",
       "      <th>0</th>\n",
       "      <td>29</td>\n",
       "      <td>2888</td>\n",
       "      <td>1</td>\n",
       "      <td>1</td>\n",
       "      <td>1</td>\n",
       "    </tr>\n",
       "    <tr>\n",
       "      <th>1</th>\n",
       "      <td>46</td>\n",
       "      <td>431</td>\n",
       "      <td>0</td>\n",
       "      <td>1</td>\n",
       "      <td>0</td>\n",
       "    </tr>\n",
       "    <tr>\n",
       "      <th>2</th>\n",
       "      <td>22</td>\n",
       "      <td>430</td>\n",
       "      <td>0</td>\n",
       "      <td>1</td>\n",
       "      <td>1</td>\n",
       "    </tr>\n",
       "    <tr>\n",
       "      <th>3</th>\n",
       "      <td>25</td>\n",
       "      <td>457</td>\n",
       "      <td>2</td>\n",
       "      <td>1</td>\n",
       "      <td>1</td>\n",
       "    </tr>\n",
       "    <tr>\n",
       "      <th>4</th>\n",
       "      <td>22</td>\n",
       "      <td>8436</td>\n",
       "      <td>4</td>\n",
       "      <td>1</td>\n",
       "      <td>1</td>\n",
       "    </tr>\n",
       "  </tbody>\n",
       "</table>\n",
       "</div>"
      ],
      "text/plain": [
       "   age  recency  freq  avg_amount_class  generation\n",
       "0   29     2888     1                 1           1\n",
       "1   46      431     0                 1           0\n",
       "2   22      430     0                 1           1\n",
       "3   25      457     2                 1           1\n",
       "4   22     8436     4                 1           1"
      ]
     },
     "execution_count": 147,
     "metadata": {},
     "output_type": "execute_result"
    }
   ],
   "source": [
    "df_7662.drop(['Unnamed: 0', 'donorID', 'language', 'zipcode', 'gender', 'year', 'amount', 'amount_class', 'avg_amount'], axis=1, inplace=True)\n",
    "df_7662.head()"
   ]
  },
  {
   "cell_type": "code",
   "execution_count": 118,
   "metadata": {},
   "outputs": [
    {
     "name": "stdout",
     "output_type": "stream",
     "text": [
      "Features:  Index(['age', 'recency', 'freq', 'generation'], dtype='object')\n",
      "Target:\n",
      " 1    28026\n",
      "0     6820\n",
      "Name: avg_amount_class, dtype: int64\n"
     ]
    }
   ],
   "source": [
    "# Declare feature vector and target variable\n",
    "Xi = df.drop(['avg_amount_class'], axis = 1)\n",
    "y = df['avg_amount_class']\n",
    "\n",
    "print (\"Features: \",Xi.columns)\n",
    "print('Target:\\n', y.value_counts())"
   ]
  },
  {
   "cell_type": "code",
   "execution_count": 119,
   "metadata": {},
   "outputs": [
    {
     "name": "stdout",
     "output_type": "stream",
     "text": [
      "Features:  Index(['zipcode', 'gender', 'language', 'year', 'age', 'amount', 'recency',\n",
      "       'freq', 'amount_class', 'avg_amount', 'generation'],\n",
      "      dtype='object')\n",
      "Target:\n",
      " 1    19922\n",
      "0     5709\n",
      "Name: avg_amount_class, dtype: int64\n"
     ]
    }
   ],
   "source": [
    "# Declare feature vector and target variable\n",
    "Xi_7244 = df_7244.drop(['avg_amount_class'], axis = 1)\n",
    "y_7244 = df_7244['avg_amount_class']\n",
    "\n",
    "print (\"Features: \",Xi_7244.columns)\n",
    "print('Target:\\n', y_7244.value_counts())"
   ]
  },
  {
   "cell_type": "code",
   "execution_count": 149,
   "metadata": {},
   "outputs": [
    {
     "name": "stdout",
     "output_type": "stream",
     "text": [
      "Features:  Index(['age', 'recency', 'freq', 'generation'], dtype='object')\n",
      "Target:\n",
      " 1    21042\n",
      "0     5451\n",
      "Name: avg_amount_class, dtype: int64\n"
     ]
    }
   ],
   "source": [
    "# Declare feature vector and target variable\n",
    "Xi_7662 = df_7662.drop(['avg_amount_class'], axis = 1)\n",
    "y_7662 = df_7662['avg_amount_class']\n",
    "\n",
    "print (\"Features: \",Xi_7662.columns)\n",
    "print('Target:\\n', y_7662.value_counts())"
   ]
  },
  {
   "cell_type": "code",
   "execution_count": 121,
   "metadata": {},
   "outputs": [
    {
     "data": {
      "image/png": "[encoded data removed]",
      "text/plain": [
       "<Figure size 360x360 with 1 Axes>"
      ]
     },
     "metadata": {
      "needs_background": "light"
     },
     "output_type": "display_data"
    }
   ],
   "source": [
    "# TRAIN\n",
    "plt.figure(figsize=(5, 5))\n",
    "s = sns.countplot(x = \"avg_amount_class\", data = df)\n",
    "plt.title('Campaign 6169')\n",
    "plt.show()"
   ]
  },
  {
   "cell_type": "code",
   "execution_count": 122,
   "metadata": {},
   "outputs": [
    {
     "data": {
      "image/png": "[encoded data removed]",
      "text/plain": [
       "<Figure size 360x360 with 1 Axes>"
      ]
     },
     "metadata": {
      "needs_background": "light"
     },
     "output_type": "display_data"
    }
   ],
   "source": [
    "# TEST\n",
    "plt.figure(figsize=(5, 5))\n",
    "s = sns.countplot(x = \"avg_amount_class\", data = df_7244)\n",
    "plt.title('Campaign 7244')\n",
    "plt.show()"
   ]
  },
  {
   "cell_type": "code",
   "execution_count": 150,
   "metadata": {},
   "outputs": [
    {
     "data": {
      "image/png": "[encoded data removed]",
      "text/plain": [
       "<Figure size 360x360 with 1 Axes>"
      ]
     },
     "metadata": {
      "needs_background": "light"
     },
     "output_type": "display_data"
    }
   ],
   "source": [
    "# TEST\n",
    "plt.figure(figsize=(5, 5))\n",
    "s = sns.countplot(x = \"avg_amount_class\", data = df_7662)\n",
    "plt.title('Campaign 7662')\n",
    "plt.show()"
   ]
  },
  {
   "cell_type": "code",
   "execution_count": 124,
   "metadata": {},
   "outputs": [
    {
     "data": {
      "text/html": [
       "<div>\n",
       "<style scoped>\n",
       "    .dataframe tbody tr th:only-of-type {\n",
       "        vertical-align: middle;\n",
       "    }\n",
       "\n",
       "    .dataframe tbody tr th {\n",
       "        vertical-align: top;\n",
       "    }\n",
       "\n",
       "    .dataframe thead th {\n",
       "        text-align: right;\n",
       "    }\n",
       "</style>\n",
       "<table border=\"1\" class=\"dataframe\">\n",
       "  <thead>\n",
       "    <tr style=\"text-align: right;\">\n",
       "      <th></th>\n",
       "      <th>age</th>\n",
       "      <th>recency</th>\n",
       "      <th>freq</th>\n",
       "      <th>generation</th>\n",
       "      <th>avg_amount_class</th>\n",
       "    </tr>\n",
       "  </thead>\n",
       "  <tbody>\n",
       "    <tr>\n",
       "      <th>0</th>\n",
       "      <td>28</td>\n",
       "      <td>14468</td>\n",
       "      <td>11</td>\n",
       "      <td>1</td>\n",
       "      <td>1</td>\n",
       "    </tr>\n",
       "    <tr>\n",
       "      <th>1</th>\n",
       "      <td>44</td>\n",
       "      <td>249</td>\n",
       "      <td>0</td>\n",
       "      <td>0</td>\n",
       "      <td>1</td>\n",
       "    </tr>\n",
       "    <tr>\n",
       "      <th>2</th>\n",
       "      <td>44</td>\n",
       "      <td>16319</td>\n",
       "      <td>25</td>\n",
       "      <td>0</td>\n",
       "      <td>1</td>\n",
       "    </tr>\n",
       "    <tr>\n",
       "      <th>3</th>\n",
       "      <td>59</td>\n",
       "      <td>7094</td>\n",
       "      <td>2</td>\n",
       "      <td>0</td>\n",
       "      <td>1</td>\n",
       "    </tr>\n",
       "    <tr>\n",
       "      <th>4</th>\n",
       "      <td>64</td>\n",
       "      <td>15732</td>\n",
       "      <td>18</td>\n",
       "      <td>0</td>\n",
       "      <td>1</td>\n",
       "    </tr>\n",
       "  </tbody>\n",
       "</table>\n",
       "</div>"
      ],
      "text/plain": [
       "   age  recency  freq  generation  avg_amount_class\n",
       "0   28    14468    11           1                 1\n",
       "1   44      249     0           0                 1\n",
       "2   44    16319    25           0                 1\n",
       "3   59     7094     2           0                 1\n",
       "4   64    15732    18           0                 1"
      ]
     },
     "execution_count": 124,
     "metadata": {},
     "output_type": "execute_result"
    }
   ],
   "source": [
    "# Perform label encoding on the TRAIN data\n",
    "for col in df.columns:\n",
    "    df[col] = LabelEncoder().fit_transform(df[col])\n",
    " \n",
    "df.head()"
   ]
  },
  {
   "cell_type": "code",
   "execution_count": 125,
   "metadata": {},
   "outputs": [
    {
     "data": {
      "text/html": [
       "<div>\n",
       "<style scoped>\n",
       "    .dataframe tbody tr th:only-of-type {\n",
       "        vertical-align: middle;\n",
       "    }\n",
       "\n",
       "    .dataframe tbody tr th {\n",
       "        vertical-align: top;\n",
       "    }\n",
       "\n",
       "    .dataframe thead th {\n",
       "        text-align: right;\n",
       "    }\n",
       "</style>\n",
       "<table border=\"1\" class=\"dataframe\">\n",
       "  <thead>\n",
       "    <tr style=\"text-align: right;\">\n",
       "      <th></th>\n",
       "      <th>zipcode</th>\n",
       "      <th>gender</th>\n",
       "      <th>language</th>\n",
       "      <th>year</th>\n",
       "      <th>age</th>\n",
       "      <th>amount</th>\n",
       "      <th>recency</th>\n",
       "      <th>freq</th>\n",
       "      <th>amount_class</th>\n",
       "      <th>avg_amount</th>\n",
       "      <th>generation</th>\n",
       "      <th>avg_amount_class</th>\n",
       "    </tr>\n",
       "  </thead>\n",
       "  <tbody>\n",
       "    <tr>\n",
       "      <th>0</th>\n",
       "      <td>112</td>\n",
       "      <td>0</td>\n",
       "      <td>2</td>\n",
       "      <td>49</td>\n",
       "      <td>28</td>\n",
       "      <td>2430</td>\n",
       "      <td>11447</td>\n",
       "      <td>11</td>\n",
       "      <td>1</td>\n",
       "      <td>1505</td>\n",
       "      <td>1</td>\n",
       "      <td>1</td>\n",
       "    </tr>\n",
       "    <tr>\n",
       "      <th>1</th>\n",
       "      <td>149</td>\n",
       "      <td>1</td>\n",
       "      <td>2</td>\n",
       "      <td>34</td>\n",
       "      <td>44</td>\n",
       "      <td>114</td>\n",
       "      <td>326</td>\n",
       "      <td>0</td>\n",
       "      <td>1</td>\n",
       "      <td>2063</td>\n",
       "      <td>0</td>\n",
       "      <td>1</td>\n",
       "    </tr>\n",
       "    <tr>\n",
       "      <th>2</th>\n",
       "      <td>99</td>\n",
       "      <td>1</td>\n",
       "      <td>1</td>\n",
       "      <td>19</td>\n",
       "      <td>59</td>\n",
       "      <td>1732</td>\n",
       "      <td>5879</td>\n",
       "      <td>2</td>\n",
       "      <td>1</td>\n",
       "      <td>5474</td>\n",
       "      <td>0</td>\n",
       "      <td>1</td>\n",
       "    </tr>\n",
       "    <tr>\n",
       "      <th>3</th>\n",
       "      <td>1</td>\n",
       "      <td>1</td>\n",
       "      <td>1</td>\n",
       "      <td>14</td>\n",
       "      <td>64</td>\n",
       "      <td>3838</td>\n",
       "      <td>12418</td>\n",
       "      <td>18</td>\n",
       "      <td>1</td>\n",
       "      <td>1764</td>\n",
       "      <td>0</td>\n",
       "      <td>1</td>\n",
       "    </tr>\n",
       "    <tr>\n",
       "      <th>4</th>\n",
       "      <td>1</td>\n",
       "      <td>1</td>\n",
       "      <td>1</td>\n",
       "      <td>65</td>\n",
       "      <td>13</td>\n",
       "      <td>363</td>\n",
       "      <td>323</td>\n",
       "      <td>0</td>\n",
       "      <td>1</td>\n",
       "      <td>5386</td>\n",
       "      <td>2</td>\n",
       "      <td>1</td>\n",
       "    </tr>\n",
       "  </tbody>\n",
       "</table>\n",
       "</div>"
      ],
      "text/plain": [
       "   zipcode  gender  language  year  age  amount  recency  freq  amount_class  \\\n",
       "0      112       0         2    49   28    2430    11447    11             1   \n",
       "1      149       1         2    34   44     114      326     0             1   \n",
       "2       99       1         1    19   59    1732     5879     2             1   \n",
       "3        1       1         1    14   64    3838    12418    18             1   \n",
       "4        1       1         1    65   13     363      323     0             1   \n",
       "\n",
       "   avg_amount  generation  avg_amount_class  \n",
       "0        1505           1                 1  \n",
       "1        2063           0                 1  \n",
       "2        5474           0                 1  \n",
       "3        1764           0                 1  \n",
       "4        5386           2                 1  "
      ]
     },
     "execution_count": 125,
     "metadata": {},
     "output_type": "execute_result"
    }
   ],
   "source": [
    "# Perform label encoding on the TEST data\n",
    "for col in df_7244.columns:\n",
    "    df_7244[col] = LabelEncoder().fit_transform(df_7244[col])\n",
    " \n",
    "df_7244.head()"
   ]
  },
  {
   "cell_type": "code",
   "execution_count": 151,
   "metadata": {},
   "outputs": [
    {
     "data": {
      "text/html": [
       "<div>\n",
       "<style scoped>\n",
       "    .dataframe tbody tr th:only-of-type {\n",
       "        vertical-align: middle;\n",
       "    }\n",
       "\n",
       "    .dataframe tbody tr th {\n",
       "        vertical-align: top;\n",
       "    }\n",
       "\n",
       "    .dataframe thead th {\n",
       "        text-align: right;\n",
       "    }\n",
       "</style>\n",
       "<table border=\"1\" class=\"dataframe\">\n",
       "  <thead>\n",
       "    <tr style=\"text-align: right;\">\n",
       "      <th></th>\n",
       "      <th>age</th>\n",
       "      <th>recency</th>\n",
       "      <th>freq</th>\n",
       "      <th>avg_amount_class</th>\n",
       "      <th>generation</th>\n",
       "    </tr>\n",
       "  </thead>\n",
       "  <tbody>\n",
       "    <tr>\n",
       "      <th>0</th>\n",
       "      <td>29</td>\n",
       "      <td>2888</td>\n",
       "      <td>1</td>\n",
       "      <td>1</td>\n",
       "      <td>1</td>\n",
       "    </tr>\n",
       "    <tr>\n",
       "      <th>1</th>\n",
       "      <td>46</td>\n",
       "      <td>431</td>\n",
       "      <td>0</td>\n",
       "      <td>1</td>\n",
       "      <td>0</td>\n",
       "    </tr>\n",
       "    <tr>\n",
       "      <th>2</th>\n",
       "      <td>22</td>\n",
       "      <td>430</td>\n",
       "      <td>0</td>\n",
       "      <td>1</td>\n",
       "      <td>1</td>\n",
       "    </tr>\n",
       "    <tr>\n",
       "      <th>3</th>\n",
       "      <td>25</td>\n",
       "      <td>457</td>\n",
       "      <td>2</td>\n",
       "      <td>1</td>\n",
       "      <td>1</td>\n",
       "    </tr>\n",
       "    <tr>\n",
       "      <th>4</th>\n",
       "      <td>22</td>\n",
       "      <td>8436</td>\n",
       "      <td>4</td>\n",
       "      <td>1</td>\n",
       "      <td>1</td>\n",
       "    </tr>\n",
       "  </tbody>\n",
       "</table>\n",
       "</div>"
      ],
      "text/plain": [
       "   age  recency  freq  avg_amount_class  generation\n",
       "0   29     2888     1                 1           1\n",
       "1   46      431     0                 1           0\n",
       "2   22      430     0                 1           1\n",
       "3   25      457     2                 1           1\n",
       "4   22     8436     4                 1           1"
      ]
     },
     "execution_count": 151,
     "metadata": {},
     "output_type": "execute_result"
    }
   ],
   "source": [
    "# Perform label encoding on the TEST data\n",
    "for col in df_7662.columns:\n",
    "    df_7662[col] = LabelEncoder().fit_transform(df_7662[col])\n",
    " \n",
    "df_7662.head()"
   ]
  },
  {
   "cell_type": "code",
   "execution_count": 127,
   "metadata": {},
   "outputs": [],
   "source": [
    "# Declare feature vector and target variable\n",
    "X = df.drop(['avg_amount_class'], axis = 1)\n",
    "y = df['avg_amount_class']"
   ]
  },
  {
   "cell_type": "code",
   "execution_count": 128,
   "metadata": {},
   "outputs": [],
   "source": [
    "# Declare feature vector and target variable\n",
    "X_7244 = df_7244.drop(['avg_amount_class'], axis = 1)\n",
    "y_7244 = df_7244['avg_amount_class']"
   ]
  },
  {
   "cell_type": "code",
   "execution_count": 152,
   "metadata": {},
   "outputs": [],
   "source": [
    "# Declare feature vector and target variable\n",
    "X_7662 = df_7662.drop(['avg_amount_class'], axis = 1)\n",
    "y_7662 = df_7662['avg_amount_class']"
   ]
  },
  {
   "cell_type": "code",
   "execution_count": 130,
   "metadata": {},
   "outputs": [
    {
     "data": {
      "text/plain": [
       "age           0\n",
       "recency       0\n",
       "freq          0\n",
       "generation    0\n",
       "dtype: int64"
      ]
     },
     "execution_count": 130,
     "metadata": {},
     "output_type": "execute_result"
    }
   ],
   "source": [
    "X.isnull().sum()"
   ]
  },
  {
   "cell_type": "code",
   "execution_count": 131,
   "metadata": {},
   "outputs": [],
   "source": [
    "# Encode categorical variables\n",
    "# Normalize feature vector\n",
    "# Scale the data to be between -1 and 1\n",
    "\n",
    "X_d = pd.get_dummies(X)\n",
    "X_7244_d = pd.get_dummies(X_7244)\n",
    "\n",
    "y = LabelEncoder().fit_transform(y)\n",
    "y_7244 = LabelEncoder().fit_transform(y_7244)\n",
    "\n",
    "\n",
    "X= StandardScaler().fit_transform(X)\n",
    "X_7244 = StandardScaler().fit_transform(X_7244)"
   ]
  },
  {
   "cell_type": "code",
   "execution_count": 153,
   "metadata": {},
   "outputs": [],
   "source": [
    "X_7662_d = pd.get_dummies(X_7662)\n",
    "\n",
    "y_7662 = LabelEncoder().fit_transform(y_7662)\n",
    "\n",
    "X_7662 = StandardScaler().fit_transform(X_7662)"
   ]
  },
  {
   "cell_type": "markdown",
   "metadata": {},
   "source": [
    "# Principal Component Analysis PCA"
   ]
  },
  {
   "cell_type": "markdown",
   "metadata": {},
   "source": [
    "### TRAIN"
   ]
  },
  {
   "cell_type": "code",
   "execution_count": 133,
   "metadata": {},
   "outputs": [
    {
     "data": {
      "image/png": "[encoded data removed]",
      "text/plain": [
       "<Figure size 504x288 with 1 Axes>"
      ]
     },
     "metadata": {
      "needs_background": "light"
     },
     "output_type": "display_data"
    },
    {
     "data": {
      "text/plain": [
       "array([[ 0.06289819,  2.108964  ],\n",
       "       [ 1.57733901, -1.10402296],\n",
       "       [ 1.73008239,  3.73672462],\n",
       "       ...,\n",
       "       [ 0.03624111, -0.25742784],\n",
       "       [-0.38804926, -1.04072184],\n",
       "       [-1.77633585, -1.02584933]])"
      ]
     },
     "execution_count": 133,
     "metadata": {},
     "output_type": "execute_result"
    }
   ],
   "source": [
    "# Import PCA\n",
    "from sklearn.decomposition import PCA\n",
    "\n",
    "pca = PCA()\n",
    "pca.fit_transform(X)\n",
    "\n",
    "# View explained_variance\n",
    "explained_variance = pca.explained_variance_\n",
    "\n",
    "# Visualize explained_variance\n",
    "plt.figure(figsize=(7, 4))\n",
    "plt.bar(range(Xi.shape[1]), explained_variance, label='Individual explained variance')\n",
    "plt.ylabel('Explained variance ratio')\n",
    "plt.xlabel('Principal components')\n",
    "plt.legend(loc='best')\n",
    "plt.show()\n",
    "\n",
    "# The last 2 components has less amount of variance of the data.The 1st 2sd components retains more than 90% of the data.\n",
    "# Perform PCA by taking 2 components with maximum Variance\n",
    "pca = PCA(n_components=2)\n",
    "pca.fit_transform(X)"
   ]
  },
  {
   "cell_type": "markdown",
   "metadata": {},
   "source": [
    "### TEST"
   ]
  },
  {
   "cell_type": "code",
   "execution_count": 68,
   "metadata": {},
   "outputs": [
    {
     "data": {
      "image/png": "[encoded data removed]",
      "text/plain": [
       "<Figure size 504x288 with 1 Axes>"
      ]
     },
     "metadata": {
      "needs_background": "light"
     },
     "output_type": "display_data"
    },
    {
     "data": {
      "text/plain": [
       "array([[ 0.2280869 ,  2.02230373,  1.23784601,  0.93734696,  1.18363888,\n",
       "        -0.94650047],\n",
       "       [ 1.86748667, -1.2499221 , -0.33183319,  0.37479833, -0.88459321,\n",
       "        -1.02098544],\n",
       "       [ 3.05858139,  0.1645927 , -1.38613503,  2.97005989, -0.83406956,\n",
       "         1.59304278],\n",
       "       ...,\n",
       "       [ 1.00126992, -0.59345345, -1.76565421,  0.34451201,  1.1865523 ,\n",
       "        -0.90960398],\n",
       "       [-0.62528362, -1.04915182, -1.84522812,  2.73683777, -0.81387134,\n",
       "         1.5539625 ],\n",
       "       [-2.15635864, -1.00442444, -1.85263015,  2.96936242, -0.80681047,\n",
       "         1.33189314]])"
      ]
     },
     "execution_count": 68,
     "metadata": {},
     "output_type": "execute_result"
    }
   ],
   "source": [
    "# Import PCA\n",
    "from sklearn.decomposition import PCA\n",
    "\n",
    "pca = PCA()\n",
    "pca.fit_transform(X_7244)\n",
    "\n",
    "# View explained_variance\n",
    "explained_variance = pca.explained_variance_\n",
    "\n",
    "# Visualize explained_variance\n",
    "plt.figure(figsize=(7, 4))\n",
    "plt.bar(range(Xi_7244.shape[1]), explained_variance, label='Individual explained variance')\n",
    "plt.ylabel('Explained variance ratio')\n",
    "plt.xlabel('Principal components')\n",
    "plt.legend(loc='best')\n",
    "plt.show()\n",
    "\n",
    "# The last 3 components has less amount of variance of the data.The 1st 6 components retains more than 90% of the data.\n",
    "# Perform PCA by taking 6 components with maximum Variance\n",
    "pca = PCA(n_components=6)\n",
    "pca.fit_transform(X_7244)"
   ]
  },
  {
   "cell_type": "markdown",
   "metadata": {},
   "source": [
    "# Random Forest"
   ]
  },
  {
   "cell_type": "code",
   "execution_count": 163,
   "metadata": {},
   "outputs": [
    {
     "name": "stdout",
     "output_type": "stream",
     "text": [
      "recency       0.680432\n",
      "age           0.240963\n",
      "freq          0.067155\n",
      "generation    0.011450\n",
      "dtype: float64\n"
     ]
    },
    {
     "data": {
      "image/png": "[encoded data removed]",
      "text/plain": [
       "<Figure size 800x640 with 1 Axes>"
      ]
     },
     "metadata": {},
     "output_type": "display_data"
    },
    {
     "name": "stdout",
     "output_type": "stream",
     "text": [
      "\n",
      " Model accuracy score with 1000 decision-trees : 0.756\n",
      "\n",
      "Area Under the Receiver Operating Characteristic Curve (ROC AUC) : 0.551\n",
      "\n",
      " Confusion matrix\n",
      "\n",
      " [[ 441 1665]\n",
      " [ 890 7458]]\n"
     ]
    },
    {
     "data": {
      "image/png": "[encoded data removed]",
      "text/plain": [
       "<Figure size 576x432 with 2 Axes>"
      ]
     },
     "metadata": {
      "needs_background": "light"
     },
     "output_type": "display_data"
    },
    {
     "name": "stdout",
     "output_type": "stream",
     "text": [
      "\n",
      "\n",
      " Classification Report\n",
      "\n",
      "               precision    recall  f1-score   support\n",
      "\n",
      "           0       0.33      0.21      0.26      2106\n",
      "           1       0.82      0.89      0.85      8348\n",
      "\n",
      "    accuracy                           0.76     10454\n",
      "   macro avg       0.57      0.55      0.56     10454\n",
      "weighted avg       0.72      0.76      0.73     10454\n",
      "\n"
     ]
    },
    {
     "data": {
      "image/png": "[encoded data removed]",
      "text/plain": [
       "<Figure size 576x576 with 1 Axes>"
      ]
     },
     "metadata": {
      "needs_background": "light"
     },
     "output_type": "display_data"
    }
   ],
   "source": [
    "# Import Random Forest model\n",
    "from sklearn.ensemble import RandomForestClassifier\n",
    "\n",
    "# Split the dataset 70% training set & 30% test set\n",
    "X_train, X_test, y_train, y_test = train_test_split(X, y, test_size = 0.30, random_state = SEED)\n",
    "\n",
    "# Instantiate the classifier with n_estimators = 100\n",
    "RF = RandomForestClassifier(n_estimators=1000, random_state=0, class_weight='balanced')\n",
    "\n",
    "# Fit the classifier to the training set\n",
    "RF.fit(X_train, y_train)\n",
    "\n",
    "# Predict on the test set\n",
    "y_pred = RF.predict(X_test)\n",
    "\n",
    "# View the feature scores\n",
    "feature_scores = pd.Series(RF.feature_importances_, index=X_d.columns).sort_values(ascending=False)\n",
    "print(feature_scores)\n",
    "\n",
    "# Visualize feature importance\n",
    "\n",
    "plt.figure(num=None, figsize=(10,8), dpi=80, facecolor='w', edgecolor='k')\n",
    "\n",
    "feat_importances = pd.Series(RF.feature_importances_, index= X_d.columns)\n",
    "\n",
    "feat_importances.nlargest(10).plot(kind='barh')\n",
    "plt.title('Features importances')\n",
    "plt.show()\n",
    "\n",
    "# Check accuracy score \n",
    "ac_rf = accuracy_score(y_test, y_pred)\n",
    "print('\\n Model accuracy score with 1000 decision-trees : {0:0.3f}'. format(ac_rf))\n",
    "# acc_score.append(ac)\n",
    "\n",
    "# Compute Area Under the Receiver Operating Characteristic Curve (ROC AUC) from prediction scores.\n",
    "roc_ac = roc_auc_score(y_test, y_pred)\n",
    "print('\\nArea Under the Receiver Operating Characteristic Curve (ROC AUC) : {0:0.3f}'. format(roc_ac))\n",
    "\n",
    "# Model Evaluation using Confusion Matrix\n",
    "cm = confusion_matrix(y_test, y_pred)\n",
    "print('\\n Confusion matrix\\n\\n', cm)\n",
    "\n",
    "# Visualize Confusion Matrix using Heatmap\n",
    "plt.figure(figsize=(8, 6))\n",
    "cm_matrix = pd.DataFrame(data=cm, columns=['Actual Positive:1', 'Actual Negative:0'], \n",
    "                                 index=['Predict Positive:1', 'Predict Negative:0'])\n",
    "\n",
    "sns.heatmap(cm_matrix, annot=True, fmt='d', cmap='YlGnBu')\n",
    "plt.show()\n",
    "# Classification report\n",
    "print('\\n\\n Classification Report\\n\\n',classification_report(y_test, y_pred))\n",
    "\n",
    "# Generate ROC curve values: fpr, tpr, thresholds\n",
    "fpr, tpr, thresholds = roc_curve(y_test,  y_pred)\n",
    "\n",
    "# Plot ROC curve\n",
    "plt.figure(figsize=(8, 8))\n",
    "plt.plot(fpr,tpr,label = \"AUC=%0.2f\" %roc_ac, color = 'red')\n",
    "plt.legend(loc = 'lower right')\n",
    "plt.plot([0, 1], [0, 1], linestyle = '--')\n",
    "plt.title('Receiver Operating Characteristic')\n",
    "plt.ylabel('True Positive Rate')\n",
    "plt.xlabel('False Positive Rate')\n",
    "plt.show()"
   ]
  },
  {
   "cell_type": "code",
   "execution_count": 135,
   "metadata": {},
   "outputs": [
    {
     "data": {
      "text/plain": [
       "0.5476450905096488"
      ]
     },
     "execution_count": 135,
     "metadata": {},
     "output_type": "execute_result"
    }
   ],
   "source": [
    "bas = metrics.balanced_accuracy_score(y_test, y_pred)\n",
    "bas"
   ]
  },
  {
   "cell_type": "code",
   "execution_count": 136,
   "metadata": {},
   "outputs": [
    {
     "name": "stdout",
     "output_type": "stream",
     "text": [
      "Saved trained model at ./models/donation_r_f.pkl \n"
     ]
    }
   ],
   "source": [
    "import pickle\n",
    "import os \n",
    "\n",
    "# Save the model to disk\n",
    "directory = \"./models/\"\n",
    "name = 'donation_r_f.pkl'\n",
    "path = os.path.join(directory, name)\n",
    "\n",
    "pickle.dump(RF, open(path, 'wb'))\n",
    "\n",
    "print('Saved trained model at %s ' % path)"
   ]
  },
  {
   "cell_type": "code",
   "execution_count": 154,
   "metadata": {},
   "outputs": [],
   "source": [
    "# Load the model\n",
    "model = pickle.load(open(path, 'rb'))"
   ]
  },
  {
   "cell_type": "code",
   "execution_count": 155,
   "metadata": {},
   "outputs": [],
   "source": [
    "y_pred_7662 = model.predict(X_7662)"
   ]
  },
  {
   "cell_type": "code",
   "execution_count": 178,
   "metadata": {},
   "outputs": [],
   "source": [
    "# df_7662['prediction'] = pd.DataFrame(data=y_pred_7662, columns=['prediction'])"
   ]
  },
  {
   "cell_type": "code",
   "execution_count": 180,
   "metadata": {},
   "outputs": [],
   "source": [
    "# df_7662.loc[df_7662['prediction'] == 0].count()"
   ]
  },
  {
   "cell_type": "code",
   "execution_count": 175,
   "metadata": {},
   "outputs": [
    {
     "name": "stdout",
     "output_type": "stream",
     "text": [
      "23673  classified correctly\n",
      "2820  classified incorrectly\n"
     ]
    }
   ],
   "source": [
    "correct_predictions = np.nonzero(y_pred_7662 == 1)[0]\n",
    "incorrect_predictions = np.nonzero(y_pred_7662 != 1)[0]\n",
    "\n",
    "print(len(correct_predictions),\" classified correctly\")\n",
    "print(len(incorrect_predictions),\" classified incorrectly\")"
   ]
  },
  {
   "cell_type": "code",
   "execution_count": 177,
   "metadata": {},
   "outputs": [
    {
     "data": {
      "text/plain": [
       "(26493,)"
      ]
     },
     "execution_count": 177,
     "metadata": {},
     "output_type": "execute_result"
    }
   ],
   "source": [
    "y_pred_7662.shape"
   ]
  },
  {
   "cell_type": "code",
   "execution_count": 156,
   "metadata": {},
   "outputs": [],
   "source": [
    "prediction = model.score(X_7662, y_7662)"
   ]
  },
  {
   "cell_type": "code",
   "execution_count": 157,
   "metadata": {},
   "outputs": [],
   "source": [
    "recall = metrics.recall_score(y_7662, y_pred_7662)"
   ]
  },
  {
   "cell_type": "code",
   "execution_count": 158,
   "metadata": {},
   "outputs": [
    {
     "name": "stdout",
     "output_type": "stream",
     "text": [
      "bas: 0.5272296040045077\n"
     ]
    }
   ],
   "source": [
    "bas = metrics.balanced_accuracy_score(y_7662, y_pred_7662)\n",
    "print('bas:', bas)"
   ]
  },
  {
   "cell_type": "code",
   "execution_count": 159,
   "metadata": {},
   "outputs": [
    {
     "name": "stdout",
     "output_type": "stream",
     "text": [
      "recall: 0.9047619047619048\n"
     ]
    }
   ],
   "source": [
    "print('recall:', recall)"
   ]
  },
  {
   "cell_type": "code",
   "execution_count": 160,
   "metadata": {},
   "outputs": [
    {
     "name": "stdout",
     "output_type": "stream",
     "text": [
      "prediction: 0.749405503340505\n"
     ]
    }
   ],
   "source": [
    "print('prediction:',prediction)"
   ]
  },
  {
   "cell_type": "markdown",
   "metadata": {},
   "source": [
    "# Logistic Regression"
   ]
  },
  {
   "cell_type": "code",
   "execution_count": null,
   "metadata": {},
   "outputs": [],
   "source": [
    "# Logistic Regression\n",
    "\n",
    "from sklearn.linear_model import LogisticRegression\n",
    "\n",
    "reg = LogisticRegression()\n",
    "reg.fit(X_train, Y_train)\n",
    "Y_pred = logreg.predict(X_test)\n",
    "acc_reg = round(reg.score(X_train, Y_train) * 100, 2)\n",
    "print(acc_reg)"
   ]
  },
  {
   "cell_type": "markdown",
   "metadata": {},
   "source": [
    "# SVM"
   ]
  },
  {
   "cell_type": "code",
   "execution_count": null,
   "metadata": {},
   "outputs": [],
   "source": [
    "# Linear Support Vector Machine\n",
    "\n",
    "from sklearn.svm import SVC, LinearSVC\n",
    "\n",
    "svc = LinearSVC()\n",
    "svc.fit(X_train, Y_train)\n",
    "Y_pred = svc.predict(X_test)\n",
    "acc_svc = round(svc.score(X_train, Y_train) * 100, 2)\n",
    "print(acc_svc)"
   ]
  },
  {
   "cell_type": "markdown",
   "metadata": {},
   "source": [
    "# Best Model"
   ]
  },
  {
   "cell_type": "code",
   "execution_count": null,
   "metadata": {},
   "outputs": [],
   "source": [
    "# BEST MODEL\n",
    "\n",
    "results = pd.DataFrame({\n",
    "    'Model': [\"Random_Forst\",\"Logistic_Regression\",\"Support_Vector_Machine\"],\n",
    "    'Score': [acc_random_forest,acc_reg,acc_svc]})\n",
    "result_df = results.sort_values(by='Score', ascending=False)\n",
    "result_df = result_df.set_index('Score')\n",
    "result_df.head(9)"
   ]
  },
  {
   "cell_type": "code",
   "execution_count": null,
   "metadata": {},
   "outputs": [],
   "source": []
  }
 ],
 "metadata": {
  "kernelspec": {
   "display_name": "Python 3",
   "language": "python",
   "name": "python3"
  },
  "language_info": {
   "codemirror_mode": {
    "name": "ipython",
    "version": 3
   },
   "file_extension": ".py",
   "mimetype": "text/x-python",
   "name": "python",
   "nbconvert_exporter": "python",
   "pygments_lexer": "ipython3",
   "version": "3.7.6"
  },
  "latex_envs": {
   "LaTeX_envs_menu_present": true,
   "autoclose": false,
   "autocomplete": true,
   "bibliofile": "biblio.bib",
   "cite_by": "apalike",
   "current_citInitial": 1,
   "eqLabelWithNumbers": true,
   "eqNumInitial": 1,
   "hotkeys": {
    "equation": "Ctrl-E",
    "itemize": "Ctrl-I"
   },
   "labels_anchors": false,
   "latex_user_defs": false,
   "report_style_numbering": false,
   "user_envs_cfg": false
  },
  "nbTranslate": {
   "displayLangs": [
    "*"
   ],
   "hotkey": "alt-t",
   "langInMainMenu": true,
   "sourceLang": "en",
   "targetLang": "fr",
   "useGoogleTranslate": true
  },
  "toc": {
   "base_numbering": 1,
   "nav_menu": {},
   "number_sections": true,
   "sideBar": true,
   "skip_h1_title": false,
   "title_cell": "Table of Contents",
   "title_sidebar": "Contents",
   "toc_cell": false,
   "toc_position": {},
   "toc_section_display": true,
   "toc_window_display": false
  }
 },
 "nbformat": 4,
 "nbformat_minor": 4
}
